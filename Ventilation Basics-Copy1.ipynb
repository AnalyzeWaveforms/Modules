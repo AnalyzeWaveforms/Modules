{
 "cells": [
  {
   "cell_type": "code",
   "execution_count": 9,
   "id": "006feadf",
   "metadata": {},
   "outputs": [
    {
     "data": {
      "application/vnd.jupyter.widget-view+json": {
       "model_id": "b82ba2211e6c4e77a07ef6eb8042b40e",
       "version_major": 2,
       "version_minor": 0
      },
      "text/plain": [
       "interactive(children=(FloatSlider(value=0.0, description='a', max=50.0, step=1.0), FloatSlider(value=0.0, desc…"
      ]
     },
     "metadata": {},
     "output_type": "display_data"
    }
   ],
   "source": [
    "%matplotlib inline\n",
    "import matplotlib.pyplot as plt\n",
    "from ipywidgets import interactive, FloatSlider\n",
    "\n",
    "output1_values = []\n",
    "output2_values = []\n",
    "\n",
    "def plot_func(a, b, c):\n",
    "    global output1_values, output2_values\n",
    "    output1 = a * b\n",
    "    output2 = a * (b - c)\n",
    "    \n",
    "    output1_values.append(output1)\n",
    "    output2_values.append(output2)\n",
    "    \n",
    "    fig, ax = plt.subplots(2, 1, figsize=(10,10))\n",
    "    ax[0].text(0.5, 0.5, f'{a} x {b} = {output1:.3f}', ha='center', va='center', fontsize=20)\n",
    "    ax[0].text(0.5, 0.3, f'{a} x ({b} - {c}) = {output2:.3f}', ha='center', va='center', fontsize=20)\n",
    "    ax[0].axis('off')\n",
    "    \n",
    "    ax[1].plot(output1_values, label='Output 1')\n",
    "    ax[1].plot(output2_values, label='Output 2')\n",
    "    ax[1].legend()\n",
    "    \n",
    "    plt.show()\n",
    "\n",
    "a_slider = FloatSlider(min=0.0, max=50.0, step=1)\n",
    "b_slider = FloatSlider(min=0.0, max=1.0, step=0.05)\n",
    "c_slider = FloatSlider(min=0.0, max=1.0, step=0.05)\n",
    "\n",
    "interactive_plot = interactive(plot_func, a=a_slider, b=b_slider, c=c_slider)\n",
    "output = interactive_plot.children[-1]\n",
    "interactive_plot\n"
   ]
  },
  {
   "cell_type": "code",
   "execution_count": null,
   "id": "848b1df8",
   "metadata": {},
   "outputs": [],
   "source": []
  }
 ],
 "metadata": {
  "kernelspec": {
   "display_name": "Python 3 (ipykernel)",
   "language": "python",
   "name": "python3"
  },
  "language_info": {
   "codemirror_mode": {
    "name": "ipython",
    "version": 3
   },
   "file_extension": ".py",
   "mimetype": "text/x-python",
   "name": "python",
   "nbconvert_exporter": "python",
   "pygments_lexer": "ipython3",
   "version": "3.9.13"
  }
 },
 "nbformat": 4,
 "nbformat_minor": 5
}
