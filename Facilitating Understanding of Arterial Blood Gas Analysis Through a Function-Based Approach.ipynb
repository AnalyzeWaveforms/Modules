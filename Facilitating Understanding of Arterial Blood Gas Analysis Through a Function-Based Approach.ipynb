{
 "cells": [
  {
   "cell_type": "markdown",
   "id": "bdb8e256",
   "metadata": {},
   "source": [
    "# During routine clinical rounding, \n",
    "\n",
    "Respiratory Therapy students are expected to have an indepth understanding of what is occurring with Oxygenation and Ventilation in relation to the current artieral blood gas. While there are a plethora of other indices and metrics that are available to a Respiratory Therapist (e.g. From Mechanical Power to Ventilatory Ratio), a large majority of clinical discussions center around the ABG due to the core components of Ventilation and Oxygenation being centered around so many physiological processes (e.g. Diabetic Ketoacidosis vs. Sepsis with Lactic Acidosis vs. Respiratory Complications from Opiate Overdose).\n",
    "\n",
    "Please proceed by pressing Shift+Enter, Twice."
   ]
  },
  {
   "cell_type": "code",
   "execution_count": 34,
   "id": "bf149ca4",
   "metadata": {
    "scrolled": true
   },
   "outputs": [
    {
     "data": {
      "application/vnd.jupyter.widget-view+json": {
       "model_id": "1145b89a25804eb3afb197e3562570fc",
       "version_major": 2,
       "version_minor": 0
      },
      "text/plain": [
       "interactive(children=(FloatSlider(value=40.0, description='PaCO2', min=10.0, step=1.0), FloatSlider(value=25.0…"
      ]
     },
     "metadata": {},
     "output_type": "display_data"
    },
    {
     "data": {
      "text/plain": [
       "<function __main__.interactive_plot(PaCO2, HCO3)>"
      ]
     },
     "execution_count": 34,
     "metadata": {},
     "output_type": "execute_result"
    }
   ],
   "source": [
    "import tkinter as tk\n",
    "import numpy as np\n",
    "import matplotlib.pyplot as plt\n",
    "from matplotlib.backends.backend_tkagg import FigureCanvasTkAgg\n",
    "import matplotlib.colors as mcolors\n",
    "\n",
    "def calculate_pH(PaCO2, HCO3):\n",
    "    pK = 6.1\n",
    "    PCO2_conversion = 0.03\n",
    "    pH = pK + np.log10(HCO3 / (PCO2_conversion * PaCO2))\n",
    "    return pH\n",
    "\n",
    "def classify_abg(pH, PaCO2, HCO3):\n",
    "    if pH < 7.35:\n",
    "        if PaCO2 > 45:\n",
    "            if HCO3 > 26:\n",
    "                return \"Partially Compensated Respiratory Acidosis\", 'Yellow'\n",
    "            elif HCO3 < 22:\n",
    "                return \"Mixed Acidosis\", 'Red'\n",
    "            else:\n",
    "                return \"Uncompensated Respiratory Acidosis\", 'Orange'\n",
    "        elif HCO3 < 22:\n",
    "            if PaCO2 < 35:\n",
    "                return \"Partially Compensated Metabolic Acidosis\", 'Yellow'\n",
    "            elif PaCO2 > 45:\n",
    "                return \"Mixed Acidosis\", 'Red'\n",
    "            else:\n",
    "                return \"Uncompensated Metabolic Acidosis\", 'Orange'\n",
    "        else:\n",
    "            return \"Undefined\", 'gray'\n",
    "    elif pH > 7.45:\n",
    "        if PaCO2 < 35:\n",
    "            if HCO3 < 22:\n",
    "                return \"Partially Compensated Respiratory Alkalosis\", 'cyan'\n",
    "            elif HCO3 > 26:\n",
    "                return \"Mixed Alkalosis\", 'Purple'\n",
    "            else:\n",
    "                return \"Uncompensated Respiratory Alkalosis\", 'blue'\n",
    "        elif HCO3 > 26:\n",
    "            if PaCO2 > 45:\n",
    "                return \"Partially Compensated Metabolic Alkalosis\", 'cyan'\n",
    "            elif PaCO2 < 35:\n",
    "                return \"Mixed Alkalosis\", 'Purple'\n",
    "            else:\n",
    "                return \"Uncompensated Metabolic Alkalosis\", 'Blue'\n",
    "        else:\n",
    "            return \"Undefined\", 'gray'\n",
    "    else:\n",
    "        if 35 <= PaCO2 <= 45 and 22 <= HCO3 <= 26:\n",
    "            return \"Normal\", 'green'\n",
    "        else:\n",
    "            return \"Undefined\", 'gray'\n",
    "\n",
    "def calculate_possible_PaCO2_HCO3(pH, PaCO2, HCO3, radius=2, num_points=100):\n",
    "    pK = 6.1\n",
    "    PCO2_conversion = 0.03\n",
    "\n",
    "    angles = np.linspace(0, 2 * np.pi, num_points)\n",
    "    dHCO3_values = np.zeros(num_points)\n",
    "    dPaCO2_values = np.zeros(num_points)\n",
    "\n",
    "    for i, angle in enumerate(angles):\n",
    "        dHCO3 = radius * np.sin(angle)\n",
    "        dPaCO2 = radius * np.cos(angle)\n",
    "\n",
    "        dHCO3_values[i] = HCO3 + dHCO3\n",
    "        dPaCO2_values[i] = PaCO2 + dPaCO2\n",
    "\n",
    "    pH_values = pK + np.log10(dHCO3_values / (PCO2_conversion * dPaCO2_values))\n",
    "\n",
    "    return pH_values, dHCO3_values\n",
    "\n",
    "def plot_PaCO2_lines(ax):\n",
    "    pK = 6.1\n",
    "    PCO2_conversion = 0.03\n",
    "\n",
    "    for PaCO2 in range(10, 110, 10):\n",
    "        HCO3_values = np.linspace(5, 50, 100)\n",
    "        pH_values = pK + np.log10(HCO3_values / (PaCO2 * PCO2_conversion))\n",
    "        ax.plot(pH_values, HCO3_values, 'k', alpha=0.5)\n",
    "        ax.text(pH_values[-1], HCO3_values[-1], f'{PaCO2}', fontsize=8, verticalalignment='bottom')\n",
    "\n",
    "def interactive_plot(PaCO2, HCO3):\n",
    "    pH = calculate_pH(PaCO2, HCO3)\n",
    "    \n",
    "    classification, color = classify_abg(pH, PaCO2, HCO3)\n",
    "    \n",
    "    fig, ax = plt.subplots(figsize=(8, 8))\n",
    "    ax.set_xlabel(\"pH\")\n",
    "    ax.set_ylabel(\"HCO3\")\n",
    "    \n",
    "    # Calculate pH for the current PaCO2 and HCO3 values\n",
    "    pH = calculate_pH(PaCO2, HCO3)\n",
    "\n",
    "    # Plot the point\n",
    "    ax.plot(pH, HCO3, 'ro', markersize=10)\n",
    "\n",
    "    # Plot the circle\n",
    "    pH_values, HCO3_values = calculate_possible_PaCO2_HCO3(pH, PaCO2, HCO3, radius=2)  # You can change the radius to modify the size of the circle\n",
    "    ax.plot(pH_values, HCO3_values, 'r-', linewidth=2)\n",
    "\n",
    "    # Plot the color map\n",
    "    pH_grid, HCO3_grid = np.meshgrid(np.linspace(6.2, 8.4, 200), np.linspace(5, 50, 200))\n",
    "    pK = 6.1\n",
    "    PCO2_conversion = 0.03\n",
    "    PaCO2_grid = HCO3_grid / (10 ** (pH_grid - pK) * PCO2_conversion)\n",
    "\n",
    "    color_map = np.empty((200, 200), dtype=object)\n",
    "    for i in range(200):\n",
    "        for j in range(200):\n",
    "            color_map[i, j] = classify_abg(pH_grid[i, j], PaCO2_grid[i, j], HCO3_grid[i, j])[1]\n",
    "\n",
    "    # Convert color_map to RGBA\n",
    "    color_rgba = np.empty((200, 200, 4), dtype=np.float32)\n",
    "    for i, color_name in enumerate(np.unique(color_map)):\n",
    "        color_rgba[color_map == color_name] = mcolors.to_rgba(color_name)\n",
    "\n",
    "    ax.imshow(color_rgba, extent=[6.2, 8.4, 5, 50], origin='lower', alpha=0.6, aspect='auto')\n",
    "\n",
    "    # Add PaCO2 lines\n",
    "    plot_PaCO2_lines(ax)\n",
    "\n",
    "    # Get classification for the point and display it on the plot\n",
    "    classification, _ = classify_abg(pH, PaCO2, HCO3)\n",
    "    plt.text(0.05, 0.95, f'Classification: {classification}', horizontalalignment='left',\n",
    "             verticalalignment='center', transform=ax.transAxes, bbox=dict(facecolor='red', alpha=0.5))\n",
    "\n",
    "    plt.show()\n",
    "    \n",
    "# Create sliders\n",
    "PaCO2_slider = widgets.FloatSlider(min=10, max=100, step=1, value=40, description='PaCO2')\n",
    "HCO3_slider = widgets.FloatSlider(min=5, max=50, step=1, value=25, description='HCO3')\n",
    "\n",
    "# Display the sliders and the plot\n",
    "widgets.interact(interactive_plot, PaCO2=PaCO2_slider, HCO3=HCO3_slider)\n"
   ]
  },
  {
   "cell_type": "markdown",
   "id": "99cd6ffd",
   "metadata": {},
   "source": [
    "The introduction of Arterial Blood Gases is now interactive from the start, as opposed to being static and repetative from the beginning."
   ]
  },
  {
   "cell_type": "markdown",
   "id": "b8c5bc2c",
   "metadata": {},
   "source": [
    "# The Problem\n",
    "\n",
    "Multivariate Calculus and Differential Equations: \n",
    "\n",
    "Yea, I said Calculus.\n",
    "\n",
    "The first problem arises from the physiological relationships among ABG variables. PaCO2 and HCO3- are connected through the Henderson-Hasselbalch equation, which is used to calculate blood pH. \n",
    "\n",
    "## This equation in itself introduces logarithmic functions into the equation, a level of complexity above simple linear relationships. \n",
    "\n",
    "Furthermore, understanding how changes in one variable affect another over time (rate of change) leads us into the realm of derivatives, \n",
    "\n",
    "## which is a central concept in calculus."
   ]
  },
  {
   "cell_type": "markdown",
   "id": "adbc971c",
   "metadata": {},
   "source": [
    "The Henderson-Hasselbalch equation is given by:\n",
    "\n",
    "$$ \\text{pH} = \\text{p}K_a + \\log_{10}\\left(\\frac{[\\text{A}^-]}{[\\text{HA}]}\\right) $$\n",
    "\n",
    "For the bicarbonate system in blood, it can be rewritten as:\n",
    "\n",
    "$$ \\text{pH} = 6.1 + \\log_{10}\\left(\\frac{[\\text{HCO}_3^-]}{0.03 \\times \\text{PaCO}_2}\\right) $$\n"
   ]
  },
  {
   "cell_type": "markdown",
   "id": "1ea4e1de",
   "metadata": {},
   "source": [
    "To add complication to this equation,\n",
    "\n",
    "We also have to consider the classification of acid-base disorders."
   ]
  },
  {
   "cell_type": "markdown",
   "id": "bfc03862",
   "metadata": {},
   "source": [
    "# The Classification System:\n",
    "\n",
    "## Normal: \n",
    "\n",
    "This occurs when the pH, PaCO2, and HCO3 are all within the normal range. \n",
    "\n",
    "### pH: 7.35-7.45 \n",
    "### PaCO2: 35-45 mmHg \n",
    "### HCO3: 22-26 mEq/L \n",
    "\n",
    "Everything is balanced in the body.\n",
    "\n",
    "## Uncompensated Respiratory Acidosis: \n",
    "\n",
    "This means that the pH is lower than normal (acidic), and the primary issue is related to breathing (high PaCO2), with the body not yet compensating.\n",
    "\n",
    "## Partially Compensated Respiratory Acidosis: \n",
    "\n",
    "Here, the pH is still lower than normal and PaCO2 is high, but the body has started to compensate by increasing the HCO3 level.\n",
    "\n",
    "## Mixed Acidosis: \n",
    "\n",
    "This occurs when the pH is low, but both the respiratory (high PaCO2) and metabolic (low HCO3) systems are contributing to the acidic condition.\n",
    "\n",
    "## Uncompensated Metabolic Acidosis: \n",
    "\n",
    "Here, the pH is lower than normal due to metabolic issues (low HCO3), and the body has not started compensating yet.\n",
    "\n",
    "## Partially Compensated Metabolic Acidosis: \n",
    "\n",
    "In this state, the pH is still lower than normal, the HCO3 is low, but the body has started to compensate by decreasing the PaCO2 level.\n",
    "\n",
    "## Uncompensated Respiratory Alkalosis: \n",
    "\n",
    "This means that the pH is higher than normal (alkaline), and the primary issue is related to breathing (low PaCO2), with the body not compensating yet.\n",
    "\n",
    "## Partially Compensated Respiratory Alkalosis: \n",
    "\n",
    "Here, the pH is still higher than normal and PaCO2 is low, but the body has started to compensate by decreasing the HCO3 level.\n",
    "\n",
    "## Mixed Alkalosis: \n",
    "\n",
    "This occurs when the pH is high, but both the respiratory (low PaCO2) and metabolic (high HCO3) systems are contributing to the alkaline condition.\n",
    "\n",
    "## Uncompensated Metabolic Alkalosis: \n",
    "\n",
    "Here, the pH is higher than normal due to metabolic issues (high HCO3), and the body has not started compensating yet.\n",
    "\n",
    "## Partially Compensated Metabolic Alkalosis: \n",
    "\n",
    "In this state, the pH is still higher than normal, the HCO3 is high, but the body has started to compensate by increasing the PaCO2 level.\n",
    "\n",
    "## Undefined: \n",
    "\n",
    "This condition refers to any result that doesn't fit into any of the above categories."
   ]
  },
  {
   "cell_type": "markdown",
   "id": "bf180573",
   "metadata": {},
   "source": [
    "***Warning***\n",
    "\n",
    "The code below is experimental and an attempt at recreating the above graph in a 3D representation where the rotation can be controlled to see how the relationship may look in an alternative view.\n",
    "\n",
    "Future experiments with complex numbers and regraphing pose interesting questions."
   ]
  },
  {
   "cell_type": "code",
   "execution_count": null,
   "id": "7d74e117",
   "metadata": {},
   "outputs": [],
   "source": [
    "import numpy as np\n",
    "import matplotlib.pyplot as plt\n",
    "from mpl_toolkits.mplot3d import Axes3D\n"
   ]
  },
  {
   "cell_type": "code",
   "execution_count": null,
   "id": "8045b2e9",
   "metadata": {},
   "outputs": [],
   "source": [
    "def pH(HCO3, PCO2):\n",
    "    return 6.1 + np.log10(HCO3/(0.03*PCO2))"
   ]
  },
  {
   "cell_type": "code",
   "execution_count": null,
   "id": "6cd6ed07",
   "metadata": {},
   "outputs": [],
   "source": [
    "# Generate HCO3 and PCO2 values\n",
    "HCO3 = np.linspace(10, 40, 100)  # typical range of HCO3- in arterial blood is 22-28 mEq/L\n",
    "PCO2 = np.linspace(20, 60, 100)  # typical range of PCO2 in arterial blood is 35-45 mmHg\n",
    "\n",
    "# Create a grid of (HCO3, PCO2) pairs\n",
    "HCO3, PCO2 = np.meshgrid(HCO3, PCO2)\n"
   ]
  },
  {
   "cell_type": "code",
   "execution_count": null,
   "id": "008b09ce",
   "metadata": {},
   "outputs": [],
   "source": [
    "# Calculate pH values for the grid\n",
    "Z = pH(HCO3, PCO2)\n"
   ]
  },
  {
   "cell_type": "code",
   "execution_count": null,
   "id": "98f3ab4a",
   "metadata": {},
   "outputs": [],
   "source": [
    "# Create a 3D plot\n",
    "fig = plt.figure()\n",
    "ax = fig.add_subplot(111, projection='3d')\n",
    "ax.plot_surface(HCO3, PCO2, Z)\n",
    "\n",
    "ax.set_xlabel('HCO3- (mEq/L)')\n",
    "ax.set_ylabel('PCO2 (mmHg)')\n",
    "ax.set_zlabel('pH')\n",
    "\n",
    "plt.show()\n"
   ]
  },
  {
   "cell_type": "code",
   "execution_count": null,
   "id": "739fd75d",
   "metadata": {},
   "outputs": [],
   "source": [
    "import numpy as np\n",
    "import matplotlib.pyplot as plt\n",
    "from mpl_toolkits.mplot3d import Axes3D\n",
    "import ipywidgets as widgets\n",
    "from IPython.display import display\n",
    "from ipywidgets import interactive\n",
    "\n",
    "def pH(HCO3, PCO2):\n",
    "    return 6.1 + np.log10(HCO3/(0.03*PCO2))\n",
    "\n",
    "def plot_func(HCO3_min, HCO3_max, PCO2_min, PCO2_max, elev, azim):\n",
    "    HCO3 = np.linspace(HCO3_min, HCO3_max, 100)\n",
    "    PCO2 = np.linspace(PCO2_min, PCO2_max, 100)\n",
    "    HCO3, PCO2 = np.meshgrid(HCO3, PCO2)\n",
    "    Z = pH(HCO3, PCO2)\n",
    "    \n",
    "    fig = plt.figure(figsize=(10, 8))\n",
    "    ax = fig.add_subplot(111, projection='3d')\n",
    "    ax.view_init(elev=elev, azim=azim)\n",
    "    ax.plot_surface(HCO3, PCO2, Z, cmap='viridis')\n",
    "    \n",
    "    ax.set_xlabel('HCO3- (mEq/L)')\n",
    "    ax.set_ylabel('PCO2 (mmHg)')\n",
    "    ax.set_zlabel('pH')\n",
    "\n",
    "interactive_plot = interactive(plot_func, \n",
    "                               HCO3_min=(10.0, 30.0), \n",
    "                               HCO3_max=(35.0, 60.0),\n",
    "                               PCO2_min=(10.0, 30.0),\n",
    "                               PCO2_max=(35.0, 60.0),\n",
    "                               elev=(-90, 90),\n",
    "                               azim=(-90, 90))\n",
    "interactive_plot\n"
   ]
  },
  {
   "cell_type": "markdown",
   "id": "2f5a384b",
   "metadata": {},
   "source": [
    "Pretty cool when the Elev inverts with the Azim. If you want to break the graph, consider replacing the minimum values in the code with negative values. You can invert the equation and see how it still makes sense when inverted.\n",
    "\n",
    "Math rewards you when you respect it's symmytries.\n",
    "\n",
    "Forgive the misspellings."
   ]
  }
 ],
 "metadata": {
  "kernelspec": {
   "display_name": "Python 3 (ipykernel)",
   "language": "python",
   "name": "python3"
  },
  "language_info": {
   "codemirror_mode": {
    "name": "ipython",
    "version": 3
   },
   "file_extension": ".py",
   "mimetype": "text/x-python",
   "name": "python",
   "nbconvert_exporter": "python",
   "pygments_lexer": "ipython3",
   "version": "3.10.9"
  }
 },
 "nbformat": 4,
 "nbformat_minor": 5
}
